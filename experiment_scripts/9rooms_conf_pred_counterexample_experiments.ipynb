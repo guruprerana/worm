{
 "cells": [
  {
   "cell_type": "code",
   "execution_count": 1,
   "metadata": {},
   "outputs": [],
   "source": [
    "num_iters = 4000\n",
    "env_num = 5\n",
    "spec_num = 0\n",
    "use_gpu = True"
   ]
  },
  {
   "cell_type": "code",
   "execution_count": 3,
   "metadata": {},
   "outputs": [],
   "source": [
    "from conformal.all_paths_conformal_pred import all_paths_conformal_pred\n",
    "from conformal.bucketed_conformal_pred import bucketed_conformal_pred\n",
    "from conformal.dirl_score_graphs import DIRLCumRewardScoreGraph, DIRLTimeTakenScoreGraph\n",
    "from spectrl.hierarchy.construction import adj_list_from_task_graph, automaton_graph_from_spec\n",
    "from spectrl.hierarchy.reachability import HierarchicalPolicy, ConstrainedEnv\n",
    "from spectrl.main.spec_compiler import ev, seq, choose, alw\n",
    "from spectrl.rl.ddpg.ddpg import DDPGParams\n",
    "from spectrl.util.io import parse_command_line_options, save_log_info, save_object\n",
    "from spectrl.util.rl import print_performance, get_rollout\n",
    "from spectrl.rl.ars import HyperParams\n",
    "\n",
    "from spectrl.examples.rooms_envs import (\n",
    "    GRID_PARAMS_LIST,\n",
    "    MAX_TIMESTEPS,\n",
    "    START_ROOM,\n",
    "    FINAL_ROOM,\n",
    ")\n",
    "from spectrl.envs.rooms import RoomsEnv\n",
    "\n",
    "import os"
   ]
  },
  {
   "cell_type": "code",
   "execution_count": null,
   "metadata": {},
   "outputs": [
    {
     "name": "stdout",
     "output_type": "stream",
     "text": [
      "Drawing samples for [0] -> 1\n"
     ]
    },
    {
     "name": "stderr",
     "output_type": "stream",
     "text": [
      "  0%|          | 0/10000 [00:00<?, ?it/s]"
     ]
    },
    {
     "name": "stderr",
     "output_type": "stream",
     "text": [
      "100%|██████████| 10000/10000 [01:28<00:00, 113.61it/s]\n"
     ]
    },
    {
     "name": "stdout",
     "output_type": "stream",
     "text": [
      "Drawing samples for [0] -> 2\n"
     ]
    },
    {
     "name": "stderr",
     "output_type": "stream",
     "text": [
      "100%|██████████| 10000/10000 [01:28<00:00, 113.36it/s]\n"
     ]
    },
    {
     "name": "stdout",
     "output_type": "stream",
     "text": [
      "Drawing samples for [0, 1] -> 3\n"
     ]
    },
    {
     "name": "stderr",
     "output_type": "stream",
     "text": [
      "100%|██████████| 10000/10000 [01:27<00:00, 113.76it/s]\n"
     ]
    },
    {
     "name": "stdout",
     "output_type": "stream",
     "text": [
      "Drawing samples for [0, 2] -> 3\n"
     ]
    },
    {
     "name": "stderr",
     "output_type": "stream",
     "text": [
      "100%|██████████| 10000/10000 [01:27<00:00, 114.22it/s]\n"
     ]
    },
    {
     "name": "stdout",
     "output_type": "stream",
     "text": [
      "Drawing samples for [0] -> 2\n"
     ]
    },
    {
     "name": "stderr",
     "output_type": "stream",
     "text": [
      "100%|██████████| 10000/10000 [01:28<00:00, 113.50it/s]\n"
     ]
    },
    {
     "name": "stdout",
     "output_type": "stream",
     "text": [
      "Drawing samples for [0, 2] -> 3\n"
     ]
    },
    {
     "name": "stderr",
     "output_type": "stream",
     "text": [
      "100%|██████████| 10000/10000 [01:27<00:00, 114.19it/s]\n"
     ]
    }
   ],
   "source": [
    "from conformal.all_paths_conformal_pred import all_paths_conformal_pred\n",
    "from conformal.bucketed_conformal_pred import bucketed_conformal_pred\n",
    "from conformal.calculate_coverage import calculate_coverage\n",
    "from conformal.dirl_score_graphs import DIRLCumRewardScoreGraph\n",
    "\n",
    "import dill as pickle\n",
    "import json\n",
    "\n",
    "with open(\"conformal_experiments_data/9rooms-counterexample-policies/path_policies.pkl\", \"rb\") as f:\n",
    "    path_policies = pickle.load(f)\n",
    "\n",
    "with open(\"conformal_experiments_data/9rooms-counterexample-policies/adj_list.pkl\", \"rb\") as f:\n",
    "    adj_list = pickle.load(f)\n",
    "\n",
    "with open(\"conformal_experiments_data/9rooms-counterexample-policies/terminal_vertices.pkl\", \"rb\") as f:\n",
    "    terminal_vertices = pickle.load(f)\n",
    "\n",
    "cum_reward_score_graph = DIRLCumRewardScoreGraph(adj_list, path_policies, cum_reward_type=\"cum_safety_reach_reward\")\n",
    "n_samples = 10000\n",
    "n_samples_coverage = 10000\n",
    "es = [0.2, 0.1, 0.05]\n",
    "total_buckets = [5, 10, 15, 20]\n",
    "\n",
    "data_cum_reward = dict()\n",
    "data_cum_reward[\"metadata\"] = {\"es\": es, \"total_buckets\": total_buckets, \"scores\": \"cum-reward\", \"env\": \"9-rooms\", \"spec\": spec_num, \"n_samples\": n_samples}\n",
    "\n",
    "for e in es:\n",
    "    e_data = dict()\n",
    "    for buckets in total_buckets:\n",
    "        bucket_data = dict()\n",
    "        vbs = bucketed_conformal_pred(cum_reward_score_graph, e, buckets, n_samples)\n",
    "        min_path, min_path_scores = all_paths_conformal_pred(cum_reward_score_graph, e, n_samples)\n",
    "        vb = vbs.buckets[(terminal_vertices[0], buckets)]\n",
    "\n",
    "        bucket_data[\"bucketed\"] = {\"path\": vb.path, \n",
    "                                   \"path_buckets\": vb.path_buckets, \n",
    "                                   \"path_score_quantiles\": vb.path_score_quantiles, \n",
    "                                   \"max_path_score_quantile\": max(vb.path_score_quantiles)}\n",
    "        bucket_data[\"all-paths\"] = {\"path\": min_path, \"min_path_scores\": min_path_scores, \"max_min_path_scores\": max(min_path_scores)}\n",
    "\n",
    "        bucket_data[\"bucketed-coverage\"] = calculate_coverage(\n",
    "            cum_reward_score_graph, vb.path, vb.path_score_quantiles, n_samples_coverage\n",
    "        )\n",
    "        bucket_data[\"all-paths-coverage\"] = calculate_coverage(\n",
    "            cum_reward_score_graph, \n",
    "            min_path, \n",
    "            [max(min_path_scores) for _ in range(len(min_path)-1)], \n",
    "            n_samples_coverage,\n",
    "        )\n",
    "        e_data[buckets] = bucket_data\n",
    "    data_cum_reward[str(e)] = e_data\n",
    "\n",
    "# Convert the Python object to a JSON string\n",
    "json_data = json.dumps(data_cum_reward, indent=2)\n",
    "\n",
    "# Store the JSON string in a file\n",
    "with open(\"conformal_experiments_data/9rooms-counterexample-cum-reward.json\", \"w\") as json_file:\n",
    "    json_file.write(json_data)\n",
    "\n",
    "with open(\"conformal_experiments_data/9rooms-counterexample-policies/cum-rew-score-graph.pkl\", \"wb\") as f:\n",
    "    pickle.dump(cum_reward_score_graph, f)\n"
   ]
  },
  {
   "cell_type": "code",
   "execution_count": 6,
   "metadata": {},
   "outputs": [
    {
     "name": "stdout",
     "output_type": "stream",
     "text": [
      "Drawing samples for [0] -> 1\n"
     ]
    },
    {
     "name": "stderr",
     "output_type": "stream",
     "text": [
      "100%|██████████| 10000/10000 [01:28<00:00, 113.21it/s]\n"
     ]
    },
    {
     "name": "stdout",
     "output_type": "stream",
     "text": [
      "Drawing samples for [0, 1] -> 3\n"
     ]
    },
    {
     "name": "stderr",
     "output_type": "stream",
     "text": [
      "100%|██████████| 10000/10000 [01:28<00:00, 113.39it/s]"
     ]
    },
    {
     "name": "stdout",
     "output_type": "stream",
     "text": [
      "path 1 success prob 1.0\n",
      "path 2 success prob 1.0\n"
     ]
    },
    {
     "name": "stderr",
     "output_type": "stream",
     "text": [
      "\n"
     ]
    }
   ],
   "source": [
    "trajectories_scores1 = cum_reward_score_graph.sample_full_path_cached([0, 1, 3], n_samples)\n",
    "trajectories_scores2 = cum_reward_score_graph.sample_full_path_cached([0, 2, 3], n_samples)\n",
    "\n",
    "# trajectories_scores1 = cum_reward_score_graph.sample_full_path_cached([0, 1], n_samples)\n",
    "# trajectories_scores2 = cum_reward_score_graph.sample_full_path_cached([0, 1], n_samples)\n",
    "\n",
    "successful_trajs1, successful_trajs2 = 0, 0\n",
    "\n",
    "for i in range(n_samples):\n",
    "    if all(trajectories_scores1[i][j] <= 0 for j in range(2)):\n",
    "        successful_trajs1 += 1\n",
    "    if all(trajectories_scores2[i][j] <= 0 for j in range(2)):\n",
    "        successful_trajs2 += 1\n",
    "\n",
    "print(\"path 1 success prob \" + str(successful_trajs1/n_samples))\n",
    "print(\"path 2 success prob \" + str(successful_trajs2/n_samples))"
   ]
  },
  {
   "cell_type": "code",
   "execution_count": 7,
   "metadata": {},
   "outputs": [],
   "source": [
    "with open(\"conformal_experiments_data/9rooms-counterexample-policies/cum-rew-score-graph.pkl\", \"wb\") as f:\n",
    "    pickle.dump(cum_reward_score_graph, f)"
   ]
  },
  {
   "cell_type": "code",
   "execution_count": 14,
   "metadata": {},
   "outputs": [
    {
     "data": {
      "text/plain": [
       "<matplotlib.collections.PathCollection at 0x7f7fac4f9190>"
      ]
     },
     "execution_count": 14,
     "metadata": {},
     "output_type": "execute_result"
    },
    {
     "data": {
      "image/png": "[encoded data removed]",
      "text/plain": [
       "<Figure size 640x480 with 1 Axes>"
      ]
     },
     "metadata": {},
     "output_type": "display_data"
    }
   ],
   "source": [
    "import matplotlib.pyplot as plt\n",
    "import numpy as np\n",
    "\n",
    "pp = cum_reward_score_graph.path_policies.get_vertex_path_policy([0])\n",
    "sarss = get_rollout(\n",
    "    pp.reach_envs[1],\n",
    "    pp.policies[1],\n",
    "    False,\n",
    "    init_state=None\n",
    ")\n",
    "states = [state for state, _, _, _ in sarss] + [sarss[-1][-1]]\n",
    "x_coords = [state[0] for state in states]\n",
    "y_coords = [state[1] for state in states]\n",
    "\n",
    "# Plot the points\n",
    "plt.scatter(y_coords, x_coords)"
   ]
  },
  {
   "cell_type": "code",
   "execution_count": null,
   "metadata": {},
   "outputs": [
    {
     "name": "stdout",
     "output_type": "stream",
     "text": [
      "[8.951920929984633, 7.954876804469033, 6.961256615436351, 5.970793757694742, 4.973419671880259, 3.974164561890137, 2.9745106095520564, 1.974657679830174, 0.9746586994152873, -0.025341300032347525, 0.4920079666983836, 1.4920079666983836, 2.4920079666983836, 3.4920079666983836, 4.492007966698384, 5.492007966698384, 6.492007966698384, 7.492007966698384, 8.492007966698383, 9.492007966698383, 10.492007966698383, 11.492007966698383, 12.492007966698383, 13.492007966698383, 13.492007966698383, 13.492007966698383, 13.492007966698383, 13.492007966698383, 13.492007966698383, 13.492007966698383, 13.492007966698383, 13.492007966698383, 13.492007966698383, 13.492007966698383, 13.492007966698383, 13.492007966698383, 13.492007966698383, 13.492007966698383, 13.492007966698383, 13.492007966698383, 13.492007966698383, 13.492007966698383]\n"
     ]
    },
    {
     "data": {
      "text/plain": [
       "[<matplotlib.lines.Line2D at 0x7f07ce545b50>]"
      ]
     },
     "execution_count": 32,
     "metadata": {},
     "output_type": "execute_result"
    },
    {
     "data": {
      "image/png": "[encoded data removed]",
      "text/plain": [
       "<Figure size 640x480 with 1 Axes>"
      ]
     },
     "metadata": {},
     "output_type": "display_data"
    }
   ],
   "source": [
    "reach_env = pp.reach_envs[1]\n",
    "safety_rewards = []\n",
    "for s in states:\n",
    "    safety_rewards.append(reach_env.constraints[0](s, None))\n",
    "\n",
    "print(safety_rewards)\n",
    "plt.plot(safety_rewards)"
   ]
  }
 ],
 "metadata": {
  "kernelspec": {
   "display_name": "venv",
   "language": "python",
   "name": "python3"
  },
  "language_info": {
   "codemirror_mode": {
    "name": "ipython",
    "version": 3
   },
   "file_extension": ".py",
   "mimetype": "text/x-python",
   "name": "python",
   "nbconvert_exporter": "python",
   "pygments_lexer": "ipython3",
   "version": "3.10.12"
  }
 },
 "nbformat": 4,
 "nbformat_minor": 2
}
